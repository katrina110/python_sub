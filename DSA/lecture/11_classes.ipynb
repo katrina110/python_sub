{
 "cells": [
  {
   "cell_type": "markdown",
   "metadata": {},
   "source": [
    "# Python Classes and Methods\n",
    "Python is an “object-oriented programming language.” This means that almost all the code is implemented using a special construct called classes. Programmers use classes to keep related things together. \n",
    "\n",
    "By the end of this Lecture you will be able to:\n",
    "\n",
    "Define what is a class\n",
    "\n",
    "Describe how to create a class\n",
    "\n",
    "Define what is a method\n",
    "\n",
    "Describe how to do object instantiation\n",
    "\n",
    "Describe how to create instance attributes in Python\n",
    "\n",
    "How to import or use classes to another python file or classess\n",
    "\n",
    "\n",
    "\n",
    "## What is a class?\n",
    "A class is a code template for creating objects. Objects have member variables and have behaviour associated with them. In python a class is created by the keyword class.\n",
    "\n",
    "An object is created using the constructor of the class. This object will then be called the instance of the class. "
   ]
  },
  {
   "cell_type": "markdown",
   "metadata": {},
   "source": [
    "class ClassName:\n",
    "    <statement-1>\n",
    "    .\n",
    "    .\n",
    "    .\n",
    "    <statement-N>"
   ]
  },
  {
   "cell_type": "code",
   "execution_count": 2,
   "metadata": {},
   "outputs": [],
   "source": [
    "# Example of creating a class\n",
    "class MyClass:\n",
    "    \"\"\"A simple example class\"\"\"\n",
    "    i = 12345\n",
    "\n",
    "    def f(self):\n",
    "        return 'hello world'\n",
    "\n"
   ]
  },
  {
   "cell_type": "code",
   "execution_count": 3,
   "metadata": {},
   "outputs": [
    {
     "data": {
      "text/plain": [
       "'hello world'"
      ]
     },
     "execution_count": 3,
     "metadata": {},
     "output_type": "execute_result"
    }
   ],
   "source": [
    "#creates a new instance of the class and assigns this object to the local variable x.\n",
    "x = MyClass()\n",
    "x.f()"
   ]
  },
  {
   "cell_type": "markdown",
   "metadata": {},
   "source": [
    "## The \\_\\_init\\_\\_ method and self of a class.\n",
    "The instantiation operation (“calling” a class object) creates an empty object. Many classes like to create objects with instances customized to a specific initial state. Therefore a class may define a special method named \\_\\_init\\_\\_(), like this:\n",
    "\n",
    "### In Python, \"self\"  refers to the instance of the object itself. \n",
    "When you create a new instance of a class, self refers to that instance within the class's methods. By using self, you can access attributes and methods of the object. This allows you to modify the object's state and call its methods."
   ]
  },
  {
   "cell_type": "code",
   "execution_count": 20,
   "metadata": {},
   "outputs": [
    {
     "name": "stdout",
     "output_type": "stream",
     "text": [
      "Buddy is barking!\n"
     ]
    }
   ],
   "source": [
    "class Dog:\n",
    "    def __init__(self, name):\n",
    "        self.name = name\n",
    "    \n",
    "    def bark(self):\n",
    "        print(f\"{self.name} is barking!\")\n",
    "\n",
    "# Create an instance\n",
    "dog1 = Dog(\"Buddy\")\n",
    "dog1.bark()  # Output: Buddy is barking!\n"
   ]
  },
  {
   "cell_type": "markdown",
   "metadata": {},
   "source": [
    "## Class and Instance Variables\n",
    "Generally speaking, instance variables are for data unique to each instance and class variables are for attributes and methods shared by all instances of the class:"
   ]
  },
  {
   "cell_type": "code",
   "execution_count": 22,
   "metadata": {},
   "outputs": [],
   "source": [
    "class Dog:\n",
    "    kind = 'canine'         # class variable shared by all instances\n",
    "    def __init__(self, name):\n",
    "        self.name = name    # instance variable unique to each instance"
   ]
  },
  {
   "cell_type": "code",
   "execution_count": 23,
   "metadata": {},
   "outputs": [
    {
     "name": "stdout",
     "output_type": "stream",
     "text": [
      "canine\n",
      "canine\n",
      "Fido\n",
      "Buddy\n"
     ]
    }
   ],
   "source": [
    "d = Dog('Fido')\n",
    "e = Dog('Buddy')\n",
    "print(d.kind)                  # shared by all dogs\n",
    "print(e.kind)                  # shared by all dogs\n",
    "print(d.name )                 # unique to d\n",
    "print(e.name  )                # unique to e\n"
   ]
  },
  {
   "cell_type": "markdown",
   "metadata": {},
   "source": [
    "Can you determine the requirement error of the code below. each dog should have theier own unique trick(s)"
   ]
  },
  {
   "cell_type": "code",
   "execution_count": 14,
   "metadata": {},
   "outputs": [],
   "source": [
    "class Dog:\n",
    "    tricks = []             \n",
    "    def __init__(self, name):\n",
    "        self.name = name\n",
    "    def add_trick(self, trick):\n",
    "        self.tricks.append(trick)"
   ]
  },
  {
   "cell_type": "code",
   "execution_count": 15,
   "metadata": {},
   "outputs": [
    {
     "name": "stdout",
     "output_type": "stream",
     "text": [
      "['roll over', 'play dead']\n",
      "['roll over', 'play dead']\n"
     ]
    }
   ],
   "source": [
    "dog1 = Dog('Fido')\n",
    "dog2 = Dog('Buddy')\n",
    "dog1.add_trick('roll over')\n",
    "dog2.add_trick('play dead')\n",
    "print(dog1.tricks) #oops something is wrong!  \n",
    "print(dog2.tricks)\n"
   ]
  },
  {
   "cell_type": "code",
   "execution_count": 16,
   "metadata": {},
   "outputs": [],
   "source": [
    "#corrected class\n",
    "class Dog:\n",
    "    def __init__(self, name):\n",
    "        self.name = name\n",
    "        self.tricks = []    # creates a new empty list for each dog\n",
    "    def add_trick(self, trick):\n",
    "        self.tricks.append(trick)\n",
    "\n"
   ]
  },
  {
   "cell_type": "code",
   "execution_count": 19,
   "metadata": {},
   "outputs": [
    {
     "name": "stdout",
     "output_type": "stream",
     "text": [
      "Fido ['roll over']\n",
      "Buddy ['play dead']\n"
     ]
    }
   ],
   "source": [
    "askal = Dog('Fido')\n",
    "aso = Dog('Buddy')\n",
    "askal.add_trick('roll over')\n",
    "aso.add_trick('play dead')\n",
    "print(f\"{askal.name} {askal.tricks}\") \n",
    "print(f\"{aso.name} {aso.tricks}\")\n"
   ]
  },
  {
   "cell_type": "markdown",
   "metadata": {},
   "source": [
    "## How to import a class to another python code"
   ]
  },
  {
   "cell_type": "code",
   "execution_count": 1,
   "metadata": {},
   "outputs": [
    {
     "name": "stdout",
     "output_type": "stream",
     "text": [
      "Color: Red\n",
      "Model: Sedan\n",
      "Brand: Toyota\n",
      "Updated Color: Blue\n"
     ]
    }
   ],
   "source": [
    "# 1. using direct from .. import\n",
    "from vehicle import Car\n",
    "\n",
    "# 2. import all the classes\n",
    "#           from vehicle import *    \n",
    "# from vehicle import *    \n",
    "\n",
    "# 3. Using import for the whole file of classes:\n",
    "#  You can simply import the entire module and then access its classes using the dot notation:\n",
    "# import vehicle\n",
    "# my_car = vehicle.Car(\"Red\", \"Sedan\", \"Toyota\")\n",
    "\n",
    "# Creating an instance of the Car class\n",
    "my_car = Car(\"Red\", \"Sedan\", \"Toyota\")\n",
    "\n",
    "# Accessing and printing attributes using getter methods\n",
    "print(f\"Color: {my_car.getColor()}\")\n",
    "print(f\"Model: {my_car.model}\")\n",
    "print(f\"Brand: {my_car.brand}\")\n",
    "\n",
    "# Modifying attributes using setter methods\n",
    "my_car.setColor(\"Blue\")\n",
    "print(f\"Updated Color: {my_car.getColor()}\")\n"
   ]
  },
  {
   "cell_type": "markdown",
   "metadata": {},
   "source": [
    "The @property decorator is used to define a getter for an attribute.\n",
    "\n",
    "The @<attribute_name>.setter decorator is used to define a setter for that attribute."
   ]
  }
 ],
 "metadata": {
  "kernelspec": {
   "display_name": "Python 3",
   "language": "python",
   "name": "python3"
  },
  "language_info": {
   "codemirror_mode": {
    "name": "ipython",
    "version": 3
   },
   "file_extension": ".py",
   "mimetype": "text/x-python",
   "name": "python",
   "nbconvert_exporter": "python",
   "pygments_lexer": "ipython3",
   "version": "3.10.11"
  }
 },
 "nbformat": 4,
 "nbformat_minor": 2
}
