{
 "cells": [
  {
   "cell_type": "markdown",
   "metadata": {
    "id": "3ywTPmK2IxnG"
   },
   "source": [
    "# Your First Program\n",
    "\n",
    "Traditionally the first program you write in any programming language is \"Hello World!\".\n",
    "\n",
    "Introduce yourself to the World.\n",
    "\n",
    "\n",
    "Replace **momoland** with **your name**"
   ]
  },
  {
   "cell_type": "markdown",
   "metadata": {},
   "source": [
    "Credit to the owner: DR T. Jose"
   ]
  },
  {
   "cell_type": "code",
   "execution_count": null,
   "metadata": {
    "colab": {
     "base_uri": "https://localhost:8080/",
     "height": 34
    },
    "id": "j_9z6Ib3IzGo",
    "outputId": "54b5dfab-6751-4344-eab3-7f6bffe6f548"
   },
   "outputs": [],
   "source": [
    "print(\"Hello, world! My name is Edong\")"
   ]
  },
  {
   "cell_type": "markdown",
   "metadata": {
    "id": "RvDuAtWEI79Y"
   },
   "source": [
    "Comments in Python start with the hash character ( #) and include the whole line."
   ]
  },
  {
   "cell_type": "code",
   "execution_count": 1,
   "metadata": {
    "colab": {
     "base_uri": "https://localhost:8080/",
     "height": 51
    },
    "id": "YysCJRwaI3yy",
    "outputId": "848db888-8535-4909-abbb-f9117003a69e"
   },
   "outputs": [
    {
     "name": "stdout",
     "output_type": "stream",
     "text": [
      "Hello!\n",
      "# this is not a comment\n"
     ]
    }
   ],
   "source": [
    "# This is the comment for the first line\n",
    "print(\"Hello!\")  # this comment is for the second line\n",
    "\n",
    "print(\"# this is not a comment\")\n",
    "# add new comment here"
   ]
  },
  {
   "cell_type": "markdown",
   "metadata": {
    "id": "aGz4Rm3ld4nV"
   },
   "source": [
    "### Rationale\n",
    "As programs get bigger and more complicated, they get more difficult to read. Formal languages are dense, and it is often difficult to look at a piece of code and figure out what it is doing, or why.\n",
    "\n",
    "For this reason, it is a good idea to add notes to your programs to explain in natural language what the program is doing. These notes are called comments, and in Python they start with the # symbol:"
   ]
  },
  {
   "cell_type": "markdown",
   "metadata": {
    "id": "LCm6SWZ0obPK"
   },
   "source": [
    "## Python as a calculator\n",
    "\n",
    "We can use Python like a calculator. Consider the simple expression $3 + 8$. We can evaluate and print this by:"
   ]
  },
  {
   "cell_type": "code",
   "execution_count": null,
   "metadata": {
    "colab": {
     "base_uri": "https://localhost:8080/",
     "height": 34
    },
    "id": "LHYOI5O9of_u",
    "outputId": "90ec1f33-42ff-4fe7-8bb4-2a0e913a1dc3"
   },
   "outputs": [],
   "source": [
    "3 + 8"
   ]
  },
  {
   "cell_type": "markdown",
   "metadata": {
    "id": "y4f_jzxsoiCM"
   },
   "source": [
    "Another simple calculation is the gravitational potential $V$ of a body of mass $m$ (point mass) at a distance $r$ from a body of mass $M$, which is given by\n",
    "\n",
    "$$\n",
    "V = \\frac{G M m}{r}\n",
    "$$\n",
    "\n",
    "where $G$ is the *gravitational constant*. A good approximation is $G = 6.674 \\times 10^{-11}$ N m$^{2}$ kg$^{-2}$.\n",
    "\n",
    "For the case $M = 1.65 \\times 10^{12}$ kg, $m = 6.1 \\times 10^2$ kg and $r = 7.0 \\times 10^3$ m, we can compute the  gravitational potential $V$:"
   ]
  },
  {
   "cell_type": "code",
   "execution_count": 2,
   "metadata": {
    "colab": {
     "base_uri": "https://localhost:8080/",
     "height": 34
    },
    "id": "ciTjyfgIolSH",
    "outputId": "e21d93dd-f7f0-4a3c-bc87-911ed662d45f"
   },
   "outputs": [
    {
     "data": {
      "text/plain": [
       "9.59625857142857"
      ]
     },
     "execution_count": 2,
     "metadata": {},
     "output_type": "execute_result"
    }
   ],
   "source": [
    "6.674e-11*1.65e12*6.1e2/7.0e3"
   ]
  },
  {
   "cell_type": "markdown",
   "metadata": {
    "id": "pcDFSx3do0l4"
   },
   "source": [
    "We have used 'scientific notation' to input the values. For example, the number $8 \\times 10^{-2}$ can be input as `0.08` or `8e-2`. We can easily verify that the two are the same via subtraction:"
   ]
  },
  {
   "cell_type": "code",
   "execution_count": null,
   "metadata": {
    "colab": {
     "base_uri": "https://localhost:8080/",
     "height": 34
    },
    "id": "7hU3xpwwo3Q8",
    "outputId": "8f1504ab-7032-4192-bc7b-70c851ea331e"
   },
   "outputs": [],
   "source": [
    "0.08 - 8e-2"
   ]
  },
  {
   "cell_type": "markdown",
   "metadata": {
    "id": "NGYn3vgfyYIZ"
   },
   "source": [
    "Let's try to summarize the mathematical operations you can do.   \n",
    "Just as with any other programming language,\n",
    "1. the addition ( +),\n",
    "2. subtraction ( -),\n",
    "3. multiplication ( *),\n",
    "4. division ( /)\n",
    "5. Floor Division (//)\n",
    "6. the power ( **) and\n",
    "7. modulo ( %) operators.\n"
   ]
  },
  {
   "cell_type": "markdown",
   "metadata": {
    "id": "uR9EtWaOo7BS"
   },
   "source": [
    "A common operation is raising a number to a power. To compute $3^4$:"
   ]
  },
  {
   "cell_type": "code",
   "execution_count": 3,
   "metadata": {
    "colab": {
     "base_uri": "https://localhost:8080/",
     "height": 34
    },
    "id": "K2f-1-t8o-Gp",
    "outputId": "6d107f31-b282-4fe5-c1c3-447746c3cdf0"
   },
   "outputs": [
    {
     "data": {
      "text/plain": [
       "81"
      ]
     },
     "execution_count": 3,
     "metadata": {},
     "output_type": "execute_result"
    }
   ],
   "source": [
    "3**4"
   ]
  },
  {
   "cell_type": "markdown",
   "metadata": {
    "id": "u49MN-yOpCQd"
   },
   "source": [
    "The remainder is computed using the modulus operator '`%`':"
   ]
  },
  {
   "cell_type": "code",
   "execution_count": 4,
   "metadata": {
    "colab": {
     "base_uri": "https://localhost:8080/",
     "height": 34
    },
    "id": "mu3m-cpJpEyV",
    "outputId": "8f0fa0b7-fb0a-495d-b357-77782d59f93e"
   },
   "outputs": [
    {
     "data": {
      "text/plain": [
       "2"
      ]
     },
     "execution_count": 4,
     "metadata": {},
     "output_type": "execute_result"
    }
   ],
   "source": [
    "11 % 3"
   ]
  },
  {
   "cell_type": "markdown",
   "metadata": {
    "id": "KMpgA_UipHsg"
   },
   "source": [
    "To get the quotient we use 'floor division', which uses the symbol '`//`':"
   ]
  },
  {
   "cell_type": "code",
   "execution_count": 5,
   "metadata": {
    "colab": {
     "base_uri": "https://localhost:8080/",
     "height": 34
    },
    "id": "T7yEuM3TpKy4",
    "outputId": "39e1729d-267e-4c4c-ebe7-67816c1e9212"
   },
   "outputs": [
    {
     "data": {
      "text/plain": [
       "3"
      ]
     },
     "execution_count": 5,
     "metadata": {},
     "output_type": "execute_result"
    }
   ],
   "source": [
    "11 // 3"
   ]
  },
  {
   "cell_type": "markdown",
   "metadata": {
    "id": "8z-52nl-ytw2"
   },
   "source": [
    "Let's have a little exercise. Divide the value stored in the variable number by 2, and then calculate the remainder."
   ]
  },
  {
   "cell_type": "code",
   "execution_count": null,
   "metadata": {
    "colab": {
     "base_uri": "https://localhost:8080/",
     "height": 34
    },
    "id": "NnkvvzGty1fO",
    "outputId": "6b0221bf-5f0b-4481-f531-5067f35aa305"
   },
   "outputs": [],
   "source": [
    "number = 9.0        # float number\n",
    "\n",
    "# result =  #change this line\n",
    "\n",
    "remainder =  number % 2\n",
    "\n",
    "print(\"remainder = \" + str(remainder))"
   ]
  },
  {
   "cell_type": "markdown",
   "metadata": {
    "id": "kmFX8QYsJB0y"
   },
   "source": [
    "## Variables\n",
    "\n",
    "- Variables are used to store values so we can refer to them later.\n",
    "- A variable is like a label, and you use the ' =' symbol, known as the assignment operator, to assign a value to a variable.\n",
    "\n"
   ]
  },
  {
   "cell_type": "code",
   "execution_count": null,
   "metadata": {
    "colab": {
     "base_uri": "https://localhost:8080/",
     "height": 34
    },
    "id": "zHFhdT_AJA7e",
    "outputId": "33d85409-d020-43b1-9a61-1fc9615bad5c"
   },
   "outputs": [],
   "source": [
    "a = 2  # It assigns the value 2 to variables \"a\"\n",
    "print(\"a = \", a)\n"
   ]
  },
  {
   "cell_type": "markdown",
   "metadata": {
    "id": "5f619ODfJIkT"
   },
   "source": [
    "Change the value stored in the variable greetings.\n"
   ]
  },
  {
   "cell_type": "code",
   "execution_count": 6,
   "metadata": {
    "colab": {
     "base_uri": "https://localhost:8080/",
     "height": 34
    },
    "id": "uS1KWVevJF2C",
    "outputId": "26f7606c-935c-458c-d711-b052df8e0f71"
   },
   "outputs": [
    {
     "name": "stdout",
     "output_type": "stream",
     "text": [
      "greetings = Pickachu\n"
     ]
    }
   ],
   "source": [
    "greetings = \"Pickachu\" # Change this one\n",
    "print(\"greetings = \" + str(greetings))"
   ]
  },
  {
   "cell_type": "markdown",
   "metadata": {
    "id": "Z4tmn0qwJNfn"
   },
   "source": [
    "Variable names may only contain letters, digits, and/or the underscore character, and cannot start with a digit.\n",
    "\n",
    "Check what happens if you use a variable which is not defined yet. Try to print out an undefined name."
   ]
  },
  {
   "cell_type": "code",
   "execution_count": 8,
   "metadata": {
    "id": "N25NCJrsJK0C"
   },
   "outputs": [
    {
     "name": "stdout",
     "output_type": "stream",
     "text": [
      "red\n"
     ]
    }
   ],
   "source": [
    "other_variable = 1\n",
    "undefined_variable=\"red\"\n",
    "print(undefined_variable)"
   ]
  },
  {
   "cell_type": "markdown",
   "metadata": {
    "id": "pw0MMn4ADmGT"
   },
   "source": [
    "Additionally, Python accepts greek symbols (we call unicode). It provides an easier coding of mathematical formulae"
   ]
  },
  {
   "cell_type": "code",
   "execution_count": 9,
   "metadata": {
    "colab": {
     "base_uri": "https://localhost:8080/",
     "height": 34
    },
    "id": "jNosT3eiECvc",
    "outputId": "1ee10daa-dd83-4b63-c5a8-672242cf0f09"
   },
   "outputs": [
    {
     "name": "stdout",
     "output_type": "stream",
     "text": [
      "47\n"
     ]
    }
   ],
   "source": [
    "θ = 10\n",
    "α = 12\n",
    "γ = 25\n",
    "\n",
    "β = θ + α + γ\n",
    "print(β)"
   ]
  },
  {
   "cell_type": "markdown",
   "metadata": {
    "id": "B2vZQLAdEHR0"
   },
   "source": [
    "Greek symbols and other symbols can be input in a Jupyter notebook by typing the LaTeX command for the symbol and then pressing the `tab` key, e.g. '`\\theta`' followed by pressing the `tab` key."
   ]
  },
  {
   "cell_type": "markdown",
   "metadata": {
    "id": "6pBvFt2VJRy1"
   },
   "source": [
    "### Variable Types\n",
    "\n",
    "In Python, there are two basic types of numbers: integers and floats. The most important difference between them is that a float is a number that has a decimal point, and an int is a number without a decimal point.\n",
    "\n",
    "Determine the type of the variable float_number."
   ]
  },
  {
   "cell_type": "markdown",
   "metadata": {
    "id": "7W-On5znqIAQ"
   },
   "source": [
    "If you are coming from C, one thing to notice is that declaring variables does not need to define its data type like `int`, `float`, `char`. The reason is that python tries to implicitly learn its type"
   ]
  },
  {
   "cell_type": "code",
   "execution_count": 10,
   "metadata": {
    "id": "gvXGvb1MJPfm"
   },
   "outputs": [
    {
     "name": "stdout",
     "output_type": "stream",
     "text": [
      "<class 'int'>\n",
      "<class 'float'>\n",
      "<class 'str'>\n"
     ]
    }
   ],
   "source": [
    "number = 9\n",
    "print(type(number))   # print type of variable \"number\"\n",
    "\n",
    "float_number = 9.0\n",
    "print(type(float_number)) #Change this line into the proper way\n",
    "\n",
    "char = \"a\"\n",
    "print(type(char))"
   ]
  },
  {
   "cell_type": "markdown",
   "metadata": {
    "id": "6E4XfzybxqCr"
   },
   "source": [
    "There is no such thing as `char` data type in Python. Rather, it only understands `String`. Again, if you forgot, String is simply a sequence of characters. As you would see later on, for us humans, it would make things more intuitive."
   ]
  },
  {
   "cell_type": "markdown",
   "metadata": {
    "id": "m3od7rSAJWHG"
   },
   "source": [
    "### Type Conversion\n",
    "\n",
    "There are several built-in functions that let you convert one data type to another. These functions return a new object representing the converted value.\n",
    "\n",
    "int(x) converts x to an integer.\n",
    "\n",
    "float(x) converts x to a floating-point number.\n",
    "\n",
    "str(x) converts object x to a string representation.\n",
    "\n",
    "Convert float_number to integer."
   ]
  },
  {
   "cell_type": "code",
   "execution_count": 11,
   "metadata": {
    "colab": {
     "base_uri": "https://localhost:8080/",
     "height": 68
    },
    "id": "aM0EuNvOJUI2",
    "outputId": "a0eae526-0ca7-41ee-cdcc-8ee9da3af60a"
   },
   "outputs": [
    {
     "name": "stdout",
     "output_type": "stream",
     "text": [
      "<class 'int'>\n",
      "<class 'float'>\n",
      "9\n"
     ]
    }
   ],
   "source": [
    "number = 9\n",
    "print(type(number))   # print type of variable \"number\"\n",
    "\n",
    "float_number = 9.0\n",
    "print(type(float_number))\n",
    "print(int(float_number)) #Change this one\n"
   ]
  },
  {
   "cell_type": "markdown",
   "metadata": {
    "id": "AQS9hyEAJgJe"
   },
   "source": [
    "### Assignments\n",
    "\n",
    "Augmented assignment is a single statement combining a binary operation and an assignment statement such as +=, -=, etc.\n",
    "\n",
    "Use an augmented assignment to add 5 to number and update the variable."
   ]
  },
  {
   "cell_type": "code",
   "execution_count": 16,
   "metadata": {
    "colab": {
     "base_uri": "https://localhost:8080/",
     "height": 130
    },
    "id": "pRw2hA0FJbu3",
    "outputId": "84c7dc2d-1a55-4452-c878-183943f0d558"
   },
   "outputs": [
    {
     "name": "stdout",
     "output_type": "stream",
     "text": [
      "number = 9.0\n",
      "number = 7.0\n",
      "number = 12.0\n"
     ]
    }
   ],
   "source": [
    "number = 9.0\n",
    "print(\"number = \" + str(number))\n",
    "\n",
    "number = number - 2\n",
    "print(\"number = \" + str(number))\n",
    "\n",
    "number += 5 #Change operator into the proper assignment operators\n",
    "\n",
    "print(\"number = \" + str(number))"
   ]
  },
  {
   "cell_type": "code",
   "execution_count": 17,
   "metadata": {},
   "outputs": [
    {
     "name": "stdout",
     "output_type": "stream",
     "text": [
      "8.0\n"
     ]
    }
   ],
   "source": [
    "number-=4\n",
    "print(number)"
   ]
  },
  {
   "cell_type": "markdown",
   "metadata": {
    "id": "uk9xMUK6d4nf"
   },
   "source": [
    "### Asking the user for input\n",
    "\n",
    "Sometimes we would like to take the value for a variable from the user via their keyboard.  \n",
    "\n",
    "Let's try it out. If you're coming from C, it works almost the same way as `scanf()`"
   ]
  },
  {
   "cell_type": "code",
   "execution_count": 18,
   "metadata": {
    "id": "djAhWmYSd4nf",
    "outputId": "b8b2331b-cc53-4648-964c-8c8f0130349d"
   },
   "outputs": [
    {
     "name": "stdout",
     "output_type": "stream",
     "text": [
      "What is your name?\n",
      "cpe \n",
      "cpe \n"
     ]
    }
   ],
   "source": [
    "name = input('What is your name?\\n')\n",
    "\n",
    "print(name)"
   ]
  },
  {
   "cell_type": "markdown",
   "metadata": {
    "id": "QxwXkBy1d4nk"
   },
   "source": [
    "When `input()` function is called, the program stops and waits for the user to type something. When the user presses Enter, the program resumes and input returns what the user typed as a string."
   ]
  }
 ],
 "metadata": {
  "colab": {
   "provenance": []
  },
  "kernelspec": {
   "display_name": "Python 3 (ipykernel)",
   "language": "python",
   "name": "python3"
  },
  "language_info": {
   "codemirror_mode": {
    "name": "ipython",
    "version": 3
   },
   "file_extension": ".py",
   "mimetype": "text/x-python",
   "name": "python",
   "nbconvert_exporter": "python",
   "pygments_lexer": "ipython3",
   "version": "3.10.11"
  }
 },
 "nbformat": 4,
 "nbformat_minor": 1
}
