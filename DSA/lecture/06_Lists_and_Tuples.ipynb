{
 "cells": [
  {
   "cell_type": "markdown",
   "metadata": {
    "id": "HminvRx-5bWP"
   },
   "source": [
    "# Data structures\n",
    "\n",
    "So far we have restricted our examples to simple built-in data types, e.g. `string`, `int`, and `float`. In practice, programs will use *data structures* to collect data together into useful packages."
   ]
  },
  {
   "cell_type": "markdown",
   "metadata": {
    "id": "ivWLJ10cxSLr"
   },
   "source": [
    "For example, we need to represent a point in 3D, as shown below:"
   ]
  },
  {
   "cell_type": "code",
   "execution_count": null,
   "metadata": {
    "id": "Gc8N3llOxSLs",
    "outputId": "a0e12f34-94ac-49fc-f5ad-b0514982f03e"
   },
   "outputs": [
    {
     "name": "stdout",
     "output_type": "stream",
     "text": [
      "Point: [3, 2, 5]\n",
      "Point: [3, 2, 5]\n"
     ]
    }
   ],
   "source": [
    "# Regular variable\n",
    "x = 3\n",
    "y = 2\n",
    "z = 5\n",
    "print(f\"Point: [{x}, {y}, {z}]\")\n",
    "# Using a list\n",
    "r = [3, 2, 5]  # Experiment: How do you extend this list into 4D? Can you do it?\n",
    "print(f\"Point: {r}\")"
   ]
  },
  {
   "cell_type": "markdown",
   "metadata": {
    "id": "RU9yfJD2xSLu"
   },
   "source": [
    "As another example, let's consider that we want to store the names of students in a laboratory group. Rather than a string variable for each student, we could work with a list of names, as shown below:"
   ]
  },
  {
   "cell_type": "code",
   "execution_count": null,
   "metadata": {
    "id": "_Mbp46955bWW"
   },
   "outputs": [],
   "source": [
    "lab_group0 = [\"Sarah\", \"John\", \"Joe\", \"Emily\"]\n",
    "lab_group1 = [\"Roger\", \"Rachel\", \"Amer\", \"Caroline\", \"Colin\"]"
   ]
  },
  {
   "cell_type": "markdown",
   "metadata": {
    "id": "xDuzm_SN5bWq"
   },
   "source": [
    "This is a much more powerful construction because we can perform operations on a list, such as checking its length (number of students in a lab group), sort the names in the list into alphabetical order, and add or remove names. We could even make a list-of-lists, e.g."
   ]
  },
  {
   "cell_type": "code",
   "execution_count": null,
   "metadata": {
    "id": "lKICsAMF5bWy"
   },
   "outputs": [],
   "source": [
    "lab_groups = [lab_group0, lab_group1]"
   ]
  },
  {
   "cell_type": "markdown",
   "metadata": {
    "id": "HPAaU5x65bXC"
   },
   "source": [
    "to collect all the lab groups together into a *nested* list.\n",
    "\n",
    "Data structures are particularly useful when passing data to functions. Say we want a function that prints the names of students in a given lab group. Rather than passing the name of each student (with different groups having differing numbers of members), we can pass just the list of lab group members to the function.\n",
    "Similarly, we could develop a function that computes the dot product between two vectors of arbitrary length, passing to the function just the two vectors rather than each component.\n",
    "\n",
    "We will look at three built-in Python data structures that are commonly used. They are:\n",
    "\n",
    "- `list`\n",
    "- `tuple`\n",
    "- `dict` (dictionary)"
   ]
  },
  {
   "cell_type": "markdown",
   "metadata": {
    "id": "p4GCFSUk5bXE"
   },
   "source": [
    "# Lists\n",
    "\n",
    "A `list` is a sequence of data. An 'array' in most other languages is a similar concept, but Python lists are more general than most arrays as they can hold a mixture of types. A list is constructed using square brackets:"
   ]
  },
  {
   "cell_type": "code",
   "execution_count": 1,
   "metadata": {
    "colab": {
     "base_uri": "https://localhost:8080/",
     "height": 68
    },
    "id": "XsYT222W5bXw",
    "outputId": "8c204d28-94f3-4b9f-b945-ebcf2d9cdf7c"
   },
   "outputs": [
    {
     "name": "stdout",
     "output_type": "stream",
     "text": [
      "Lab group members: ['Sarah', 'John', 'Joe', 'Emily', 'Quang']\n",
      "Size of lab group: 5\n",
      "Check the Python object type: <class 'list'>\n"
     ]
    }
   ],
   "source": [
    "# Experiment: Do you wanna see a magic? Replace \"Quang\" with 3.14\n",
    "lab_group0 = [\"Sarah\", \"John\", \"Joe\", \"Emily\", \"Quang\"]\n",
    "print(\"Lab group members: {}\".format(lab_group0))\n",
    "print(\"Size of lab group: {}\".format(len(lab_group0)))\n",
    "\n",
    "print(\"Check the Python object type: {}\".format(type(lab_group0)))"
   ]
  },
  {
   "cell_type": "markdown",
   "metadata": {
    "id": "et7ruqL15bX1"
   },
   "source": [
    "The function '`len`' returns the length (number of items) of the list.\n",
    "\n",
    "An empty list is created by"
   ]
  },
  {
   "cell_type": "code",
   "execution_count": 2,
   "metadata": {
    "id": "KzYUnGTs5bX2"
   },
   "outputs": [],
   "source": [
    "my_list = []"
   ]
  },
  {
   "cell_type": "markdown",
   "metadata": {
    "id": "Ee0FyN445bX8"
   },
   "source": [
    "## Iterating over lists\n",
    "\n",
    "Looping over each item in a list (or more generally a sequence) is called *iterating*. We iterate over the members of the lab group using the syntax:"
   ]
  },
  {
   "cell_type": "code",
   "execution_count": 3,
   "metadata": {
    "colab": {
     "base_uri": "https://localhost:8080/",
     "height": 85
    },
    "id": "e63RftML5bX9",
    "outputId": "11c34c9b-198c-4c88-d438-a4fbc4ea42e0"
   },
   "outputs": [
    {
     "name": "stdout",
     "output_type": "stream",
     "text": [
      "Sarah\n",
      "John\n",
      "Joe\n",
      "Emily\n",
      "Quang\n"
     ]
    }
   ],
   "source": [
    "for member in lab_group0:\n",
    "    print(member)"
   ]
  },
  {
   "cell_type": "markdown",
   "metadata": {
    "id": "vxKvDZMy5bYA"
   },
   "source": [
    "Say we want to iterate over the names of the lab group members, and get the position\n",
    "of each member in the list. We use `enumerate` for this:"
   ]
  },
  {
   "cell_type": "code",
   "execution_count": 4,
   "metadata": {
    "colab": {
     "base_uri": "https://localhost:8080/",
     "height": 85
    },
    "id": "YcvDw1r85bYB",
    "outputId": "e8867919-eff5-4b98-991c-e73373076e69"
   },
   "outputs": [
    {
     "name": "stdout",
     "output_type": "stream",
     "text": [
      "0 Sarah\n",
      "1 John\n",
      "2 Joe\n",
      "3 Emily\n",
      "4 Quang\n"
     ]
    }
   ],
   "source": [
    "for n, member in enumerate(lab_group0):\n",
    "    print(n, member)"
   ]
  },
  {
   "cell_type": "markdown",
   "metadata": {
    "id": "dBEjJHiG5bYE"
   },
   "source": [
    "In the above, `n` is the position in the list and `member` is the $n$th entry in the list. Sometimes we need to know the position, in which case `enumerate` is helpful. However, when possible it is preferable to use a 'plain' iteration. Note that Python counts from zero - it uses zero-based indexing."
   ]
  },
  {
   "cell_type": "markdown",
   "metadata": {
    "id": "FRAw_Pw_5bYF"
   },
   "source": [
    "## Manipulating lists\n",
    "\n",
    "There are many functions for manipulating lists. It might be useful to sort the list:"
   ]
  },
  {
   "cell_type": "code",
   "execution_count": 5,
   "metadata": {
    "id": "XLOo-bWw5bYG",
    "outputId": "1b9555cf-4136-486c-b47a-2829308a3dc3"
   },
   "outputs": [
    {
     "name": "stdout",
     "output_type": "stream",
     "text": [
      "Emily\n",
      "Joe\n",
      "John\n",
      "Quang\n",
      "Sarah\n"
     ]
    }
   ],
   "source": [
    "group0_sorted = sorted(lab_group0)\n",
    "for member in group0_sorted:\n",
    "    print(member)"
   ]
  },
  {
   "cell_type": "markdown",
   "metadata": {
    "id": "kGVAYxIQ5bYJ"
   },
   "source": [
    "With lists we can add and remove students:"
   ]
  },
  {
   "cell_type": "code",
   "execution_count": 6,
   "metadata": {
    "id": "acJHfK7v5bYK",
    "outputId": "1d70a5fd-dca1-4176-f5a9-cb4d9f370d3c"
   },
   "outputs": [
    {
     "name": "stdout",
     "output_type": "stream",
     "text": [
      "['Sarah', 'Joe', 'Emily', 'Quang']\n",
      "['Sarah', 'Joe', 'Emily', 'Quang', 'Josephine']\n"
     ]
    }
   ],
   "source": [
    "# Remove the second student (indexing starts from 0, so 1 is the second element)\n",
    "lab_group0.pop(1)\n",
    "print(lab_group0)\n",
    "\n",
    "# Add new student \"Josephine\" at the end of the list\n",
    "lab_group0.append(\"Josephine\")\n",
    "print(lab_group0)"
   ]
  },
  {
   "cell_type": "markdown",
   "metadata": {
    "id": "JATUalrE5bYN"
   },
   "source": [
    "or maybe join two groups to create one larger group:"
   ]
  },
  {
   "cell_type": "code",
   "execution_count": 7,
   "metadata": {
    "id": "g_sJNwEZ5bYO",
    "outputId": "90eb9d8b-577a-4fde-93d8-86315e85b6c4"
   },
   "outputs": [
    {
     "name": "stdout",
     "output_type": "stream",
     "text": [
      "['Sarah', 'Joe', 'Emily', 'Quang', 'Josephine', 'Roger', 'Rachel', 'Amer', 'Caroline', 'Colin']\n"
     ]
    }
   ],
   "source": [
    "lab_group1 = [\"Roger\", \"Rachel\", \"Amer\", \"Caroline\", \"Colin\"]\n",
    "\n",
    "lab_group = lab_group0 + lab_group1\n",
    "print(lab_group)"
   ]
  },
  {
   "cell_type": "markdown",
   "metadata": {
    "id": "nxp2r7L25bYR"
   },
   "source": [
    "or create a list of group lists:"
   ]
  },
  {
   "cell_type": "code",
   "execution_count": 8,
   "metadata": {
    "id": "uFE60zm15bYS",
    "outputId": "a3d0a4e5-5bc7-41a4-cc85-9e0db9e4cce6"
   },
   "outputs": [
    {
     "name": "stdout",
     "output_type": "stream",
     "text": [
      "[['Sarah', 'Joe', 'Emily', 'Quang', 'Josephine'], ['Roger', 'Rachel', 'Amer', 'Caroline', 'Colin']]\n",
      "---\n",
      "Print each lab group (name and members):\n",
      "0 ['Sarah', 'Joe', 'Emily', 'Quang', 'Josephine']\n",
      "1 ['Roger', 'Rachel', 'Amer', 'Caroline', 'Colin']\n"
     ]
    }
   ],
   "source": [
    "lab_groups = [lab_group0, lab_group1]\n",
    "print(lab_groups)\n",
    "\n",
    "print(\"---\")\n",
    "\n",
    "print(\"Print each lab group (name and members):\")\n",
    "for i, lab_group in enumerate(lab_groups):\n",
    "    print(i, lab_group)"
   ]
  },
  {
   "cell_type": "markdown",
   "metadata": {
    "id": "tD2Pb7hz5bYU"
   },
   "source": [
    "## Indexing\n",
    "\n",
    "Lists store data in order, so it is possible to 'index into' a list using an integer (this will be familiar to anyone who has used C), e.g.:"
   ]
  },
  {
   "cell_type": "code",
   "execution_count": 9,
   "metadata": {
    "id": "Y3uiimnv5bYU",
    "outputId": "5d7b91db-d05b-4290-9f7a-04071c5baa96"
   },
   "outputs": [
    {
     "name": "stdout",
     "output_type": "stream",
     "text": [
      "Sarah Emily\n"
     ]
    }
   ],
   "source": [
    "first_member = lab_group0[0]\n",
    "third_member = lab_group0[2]\n",
    "print(first_member, third_member)"
   ]
  },
  {
   "cell_type": "markdown",
   "metadata": {
    "id": "OV2TmcBp5bYX"
   },
   "source": [
    "or"
   ]
  },
  {
   "cell_type": "code",
   "execution_count": 10,
   "metadata": {
    "id": "sGfi7zQp5bYX",
    "outputId": "fe48937f-3162-48e1-82f0-8de06c17e8fb"
   },
   "outputs": [
    {
     "name": "stdout",
     "output_type": "stream",
     "text": [
      "Sarah\n",
      "Joe\n",
      "Emily\n",
      "Quang\n",
      "Josephine\n"
     ]
    }
   ],
   "source": [
    "for i in range(len(lab_group0)):\n",
    "    print(lab_group0[i])"
   ]
  },
  {
   "cell_type": "markdown",
   "metadata": {
    "id": "GZARLC2ExSL5"
   },
   "source": [
    "or\n",
    "\n",
    "If you want to take a subset of the list (also known as slicing like slicing a cake)\n"
   ]
  },
  {
   "cell_type": "code",
   "execution_count": 11,
   "metadata": {
    "id": "AtARvCYtxSL5",
    "outputId": "8e70f057-bf72-497d-b2ae-52c499e449d8"
   },
   "outputs": [
    {
     "data": {
      "text/plain": [
       "['Joe', 'Emily']"
      ]
     },
     "execution_count": 11,
     "metadata": {},
     "output_type": "execute_result"
    }
   ],
   "source": [
    "lab_group0[1:3] # Experiment: Try to replace 1:3 with : only! See what happens"
   ]
  },
  {
   "cell_type": "markdown",
   "metadata": {
    "id": "ZnjmYxK85bYa"
   },
   "source": [
    "Indices start from zero, and run through to (length - 1).\n",
    "\n",
    "Indexing can be useful for numerical computations. We use it here to compute the dot product of two vectors:"
   ]
  },
  {
   "cell_type": "code",
   "execution_count": 12,
   "metadata": {
    "id": "18J4e5XM5bYa",
    "outputId": "16836e00-b160-4b86-f1d0-3f7cdc878bad"
   },
   "outputs": [
    {
     "name": "stdout",
     "output_type": "stream",
     "text": [
      "154.45000000000002\n"
     ]
    }
   ],
   "source": [
    "# Two vectors of length 4\n",
    "x = [1.0, 3.5, 7.2, 8.9]\n",
    "y = [-1.0, 27.1, 1.0, 6]\n",
    "\n",
    "# Compute dot-product\n",
    "dot_product = 0.0\n",
    "for i in range(len(x)):\n",
    "    dot_product += x[i]*y[i]\n",
    "\n",
    "print(dot_product)"
   ]
  },
  {
   "cell_type": "markdown",
   "metadata": {
    "id": "Cj_UAdol5bYd"
   },
   "source": [
    "When possible, it is better to iterate over a list rather than use indexing, since there are data structures that support iterating but do not support indexing.\n",
    "\n",
    "If we have a list-of-lists,"
   ]
  },
  {
   "cell_type": "code",
   "execution_count": 13,
   "metadata": {
    "id": "wdxiiCb55bYe"
   },
   "outputs": [],
   "source": [
    "lab_group0 = [\"Sarah\", \"John\", \"Joe\", \"Emily\"]\n",
    "lab_group1 = [\"Roger\", \"Rachel\", \"Amer\", \"Caroline\", \"Colin\"]\n",
    "lab_groups = [lab_group0, lab_group1]"
   ]
  },
  {
   "cell_type": "markdown",
   "metadata": {
    "id": "j6l1KVaD5bYh"
   },
   "source": [
    "we can use the first index to access a list, and a second index to access the entry in that list:"
   ]
  },
  {
   "cell_type": "code",
   "execution_count": 14,
   "metadata": {
    "id": "wt6xMtOq5bYi",
    "outputId": "7da664ab-df5b-49f3-8b00-5e9fd2421444"
   },
   "outputs": [
    {
     "name": "stdout",
     "output_type": "stream",
     "text": [
      "['Sarah', 'John', 'Joe', 'Emily']\n",
      "Amer\n"
     ]
    }
   ],
   "source": [
    "group = lab_groups[0]\n",
    "print(group)\n",
    "\n",
    "name = lab_groups[1][2]\n",
    "print(name)"
   ]
  },
  {
   "cell_type": "markdown",
   "metadata": {
    "id": "VH4XiVQE5bYm"
   },
   "source": [
    "## Heterogeneity (lists with mixed types)\n",
    "\n",
    "Python lists are heterogeneous data structures - this means they can store mixed types, e.g."
   ]
  },
  {
   "cell_type": "code",
   "execution_count": 15,
   "metadata": {
    "id": "Hiu3E1c75bYn",
    "outputId": "c541b732-19d0-4d09-c34e-bf5d2626c0d5"
   },
   "outputs": [
    {
     "name": "stdout",
     "output_type": "stream",
     "text": [
      "Adam <class 'str'>\n",
      "(2+4j) <class 'complex'>\n",
      "1.0 <class 'float'>\n",
      "4 <class 'int'>\n"
     ]
    }
   ],
   "source": [
    "mixed_list = [\"Adam\", 2 + 4j, 1.0, 4]\n",
    "for entry in mixed_list:\n",
    "    print(entry, type(entry))"
   ]
  },
  {
   "cell_type": "markdown",
   "metadata": {
    "id": "84RLKQs75bYp"
   },
   "source": [
    "Arrays in most languages are homogeneous - all types in the array must be the same.\n",
    "\n",
    "There are *many* ways in which lists can be manipulated. The best way to learn how to perform a specific operation is to use a search engine."
   ]
  },
  {
   "cell_type": "markdown",
   "metadata": {
    "id": "1Bd7dFsd5bYq"
   },
   "source": [
    "## List comprehension (advanced, optional)\n",
    "\n",
    "A powerful construct in modern languages, including Python, is *list comprehension*. It is a way to succinctly build lists from other lists. It can be very useful, but should be applied sensibly as it can sometimes be difficult to read. There is an optional extension exercise at the end of this notebook that uses list comprehension.\n",
    "\n",
    "Say we have a list of numbers, and we wish to create a new list that squares each number in the original list and adds 5. Using list comprehension:"
   ]
  },
  {
   "cell_type": "code",
   "execution_count": null,
   "metadata": {
    "id": "NAh1mubW5bYq",
    "outputId": "d3106293-73c4-4404-d727-bebb895b913d"
   },
   "outputs": [
    {
     "name": "stdout",
     "output_type": "stream",
     "text": [
      "[4, 6, 10, 11]\n",
      "[21, 41, 105, 126]\n"
     ]
    }
   ],
   "source": [
    "x = [4, 6, 10, 11]\n",
    "y = [a*a + 5 for a in x]\n",
    "\n",
    "print(x)\n",
    "print(y)"
   ]
  },
  {
   "cell_type": "markdown",
   "metadata": {
    "id": "_R95ckfb5bYr"
   },
   "source": [
    "To understand the meaning, read the statement left-to-right.\n",
    "\n",
    "As another example, say we have a list of names and we want to\n",
    "\n",
    "- build a new list of names that contains only the names with more than 5 characters; and\n",
    "- for these names we want to add a full stop at the end.\n",
    "\n",
    "Using list comprehension:"
   ]
  },
  {
   "cell_type": "code",
   "execution_count": null,
   "metadata": {
    "id": "NQpJUPLU5bYs",
    "outputId": "6ebce69d-f574-47b3-bc61-ca204dd93e9d"
   },
   "outputs": [
    {
     "name": "stdout",
     "output_type": "stream",
     "text": [
      "['Roger', 'Rachel', 'Amer', 'Caroline', 'Colin']\n",
      "['Rachel.', 'Caroline.']\n"
     ]
    }
   ],
   "source": [
    "lab_group1 = [\"Roger\", \"Rachel\", \"Amer\", \"Caroline\", \"Colin\"]\n",
    "group = [name + \".\" for name in lab_group1 if len(name) > 5]\n",
    "\n",
    "print(lab_group1)\n",
    "print(group)"
   ]
  },
  {
   "cell_type": "markdown",
   "metadata": {
    "id": "nMj5Hq2i5bYt"
   },
   "source": [
    "Mastering list comprehension is not simple, but it is very powerful."
   ]
  },
  {
   "cell_type": "markdown",
   "metadata": {
    "id": "L6vnitZX5bYu"
   },
   "source": [
    "## Tuples\n",
    "\n",
    "Tuples are closely related to lists. The main difference is that a tuple cannot be changed after it has been created.\n",
    "In computing jargon, it is *immutable*.\n",
    "\n",
    "For something that should not change after it has been created, such as a vector of length three with fixed entries, a tuple is more appropriate than a list. It is 'safer' in this case since it cannot be modified accidentally in a program. Being immutable ('read-only') also permits implementations to be optimised for speed.\n",
    "\n",
    "To create a tuple, use round brackets. Say at a college each student is assigned a room, and the rooms are numbered. A student 'Laura' is given room 32:"
   ]
  },
  {
   "cell_type": "code",
   "execution_count": null,
   "metadata": {
    "id": "itp_CTEA5bYu",
    "outputId": "6fc0e752-a23b-48d9-8301-dee521241379"
   },
   "outputs": [
    {
     "name": "stdout",
     "output_type": "stream",
     "text": [
      "Room allocation: ('Laura', 32)\n",
      "Length of entry: 2\n",
      "<class 'tuple'>\n"
     ]
    }
   ],
   "source": [
    "room = (\"Laura\", 32)\n",
    "print(\"Room allocation: {}\".format(room))\n",
    "print(\"Length of entry: {}\".format(len(room)))\n",
    "print(type(room))"
   ]
  },
  {
   "cell_type": "markdown",
   "metadata": {
    "id": "F_2F9QTQ5bYw"
   },
   "source": [
    "We can iterate over tuples in the same way as with lists,"
   ]
  },
  {
   "cell_type": "code",
   "execution_count": null,
   "metadata": {
    "id": "4Wu7t6sS5bYw",
    "outputId": "2974660c-f885-43c8-e9ee-36a3c736a06e"
   },
   "outputs": [
    {
     "name": "stdout",
     "output_type": "stream",
     "text": [
      "Laura\n",
      "32\n"
     ]
    }
   ],
   "source": [
    "# Iterate over tuple values\n",
    "for d in room:\n",
    "    print(d)"
   ]
  },
  {
   "cell_type": "markdown",
   "metadata": {
    "id": "0cTf8VKk5bYy"
   },
   "source": [
    "and we can index into a tuple:"
   ]
  },
  {
   "cell_type": "code",
   "execution_count": null,
   "metadata": {
    "id": "K_Ouf6uN5bYy",
    "outputId": "f82731b5-89b6-46a2-a010-c9199a4a1545"
   },
   "outputs": [
    {
     "name": "stdout",
     "output_type": "stream",
     "text": [
      "32\n",
      "Laura\n"
     ]
    }
   ],
   "source": [
    "# Index into tuple values\n",
    "print(room[1])\n",
    "print(room[0])"
   ]
  },
  {
   "cell_type": "markdown",
   "metadata": {
    "id": "qdGXjuDq5bYz"
   },
   "source": [
    "We might have a student who is given permission to live outside of college. To keep track of them we still want an entry for the student, but there is no associated room number. We can create a tuple of length one using '`(\"a\",)`', e.g.:"
   ]
  },
  {
   "cell_type": "code",
   "execution_count": null,
   "metadata": {
    "id": "ChsiXrvw5bY0",
    "outputId": "9a025f43-a073-4d66-e379-e07cb943ff16"
   },
   "outputs": [
    {
     "name": "stdout",
     "output_type": "stream",
     "text": [
      "Room allocation: ('Adrian',)\n",
      "Length of entry: 1\n",
      "<class 'tuple'>\n"
     ]
    }
   ],
   "source": [
    "room = (\"Adrian\",)\n",
    "print(\"Room allocation: {}\".format(room))\n",
    "print(\"Length of entry: {}\".format(len(room)))\n",
    "print(type(room))"
   ]
  },
  {
   "cell_type": "markdown",
   "metadata": {
    "id": "trwTPzMw5bY2"
   },
   "source": [
    "As part of a rooms database, we can create a list of tuples:"
   ]
  },
  {
   "cell_type": "code",
   "execution_count": null,
   "metadata": {
    "id": "dNqkNDqK5bY2",
    "outputId": "ed41b3d4-fc1f-4fc2-aa88-86af960e551e"
   },
   "outputs": [
    {
     "name": "stdout",
     "output_type": "stream",
     "text": [
      "[('Adrian',), ('Laura', 32), ('John', 31), ('Penelope', 28), ('Fraser', 28), ('Gaurav', 19)]\n"
     ]
    }
   ],
   "source": [
    "room_allocation = [(\"Adrian\",), (\"Laura\", 32), (\"John\", 31), (\"Penelope\", 28), (\"Fraser\", 28), (\"Gaurav\", 19)]\n",
    "print(room_allocation)"
   ]
  },
  {
   "cell_type": "markdown",
   "metadata": {
    "id": "7JwgvvnG5bY4"
   },
   "source": [
    "To make it easier for students to find their rooms on a printed room list, we can sort the list:"
   ]
  },
  {
   "cell_type": "code",
   "execution_count": null,
   "metadata": {
    "id": "zDmybfQB5bY5",
    "outputId": "dff5eb9d-8548-4da1-b972-5c4dec2ec8da"
   },
   "outputs": [
    {
     "name": "stdout",
     "output_type": "stream",
     "text": [
      "[('Adrian',), ('Fraser', 28), ('Gaurav', 19), ('John', 31), ('Laura', 32), ('Penelope', 28)]\n"
     ]
    }
   ],
   "source": [
    "room_allocation.sort()\n",
    "print(room_allocation)"
   ]
  },
  {
   "cell_type": "markdown",
   "metadata": {
    "id": "PPSVXDS25bY7"
   },
   "source": [
    "We could improve the printed list by not printing those living outside of the college:"
   ]
  },
  {
   "cell_type": "code",
   "execution_count": null,
   "metadata": {
    "id": "h7p-4KkS5bY7",
    "outputId": "41354e34-ef09-4367-9cde-8db8f956701c"
   },
   "outputs": [
    {
     "name": "stdout",
     "output_type": "stream",
     "text": [
      "Name: Fraser \n",
      "  Room: 28\n",
      "Name: Gaurav \n",
      "  Room: 19\n",
      "Name: John \n",
      "  Room: 31\n",
      "Name: Laura \n",
      "  Room: 32\n",
      "Name: Penelope \n",
      "  Room: 28\n"
     ]
    }
   ],
   "source": [
    "for entry in room_allocation:\n",
    "    if len(entry) > 1:\n",
    "        print(\"Name: {} \\n  Room: {}\".format(entry[0], entry[1]))"
   ]
  },
  {
   "cell_type": "markdown",
   "metadata": {
    "id": "S0QjRotI5bY9"
   },
   "source": [
    "In summary, prefer tuples over lists when the length will not change."
   ]
  }
 ],
 "metadata": {
  "colab": {
   "provenance": []
  },
  "kernelspec": {
   "display_name": "Python 3 (ipykernel)",
   "language": "python",
   "name": "python3"
  },
  "language_info": {
   "codemirror_mode": {
    "name": "ipython",
    "version": 3
   },
   "file_extension": ".py",
   "mimetype": "text/x-python",
   "name": "python",
   "nbconvert_exporter": "python",
   "pygments_lexer": "ipython3",
   "version": "3.10.11"
  }
 },
 "nbformat": 4,
 "nbformat_minor": 1
}
