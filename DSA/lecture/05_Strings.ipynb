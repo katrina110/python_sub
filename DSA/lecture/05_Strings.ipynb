{
 "cells": [
  {
   "cell_type": "markdown",
   "metadata": {
    "id": "SXlb7slvI905"
   },
   "source": [
    "## String\n",
    "\n",
    "In previous lectures, we have learned fundamentals of Python. What we've found out is that Python's syntax has easier syntax compared to C.\n",
    "\n",
    "More importantly, in reference to characters, there's no such thing as character data type in Python. Rather, the most basic data type for it is string.\n",
    "\n",
    "So far, what we've explored the capability of string just like a data type of Int, char. In this module, we would explore the capabilities of string as string!\n"
   ]
  },
  {
   "cell_type": "markdown",
   "metadata": {
    "id": "6ayCc2p7Ke35"
   },
   "source": [
    "### Addition (Concatenation)\n",
    "\n",
    "Just like in `int` and `float`, the `string` data type has a $+$ operator.\n",
    "\n",
    "Can you guess the meaning of + ? Try storing your actual name on the variable `name`"
   ]
  },
  {
   "cell_type": "code",
   "execution_count": null,
   "metadata": {
    "id": "Cb_ErtdlKh2w"
   },
   "outputs": [],
   "source": [
    "name =\n",
    "\n",
    "sentence = \"Hello \" + name\n",
    "\n",
    "another_sentence = \"Welcome on learning strings, \" + name + \"!!! =) \"\n",
    "print(sentence)\n",
    "print(another_sentence)"
   ]
  },
  {
   "cell_type": "markdown",
   "metadata": {
    "id": "OCt5bwnwLdrB"
   },
   "source": [
    "So rather than actual addition, the meaning of the plus operator in the string data types is **combining** both strings variables into one big string. As the word combine is also used in addition, we would refer to this operation as **concatenation**.\n",
    "\n",
    "\n"
   ]
  },
  {
   "cell_type": "markdown",
   "metadata": {
    "id": "QCWB_bbhMH6L"
   },
   "source": [
    "### Multiplication\n",
    "\n",
    "In Python, there's also a multiplication (*) operator for strings.\n",
    "\n",
    "Let's try it out."
   ]
  },
  {
   "cell_type": "code",
   "execution_count": 2,
   "metadata": {
    "colab": {
     "base_uri": "https://localhost:8080/",
     "height": 34
    },
    "id": "_QzhccN0Pw4G",
    "outputId": "eb72975d-f811-4b13-dd93-3bfdc435b684"
   },
   "outputs": [
    {
     "name": "stdout",
     "output_type": "stream",
     "text": [
      "whammy Yuuuu... whammy Yuuuu... whammy Yuuuu...  Crank that Souja Boy..\n"
     ]
    }
   ],
   "source": [
    "keyword = \"whammy Yuuuu... \"\n",
    "\n",
    "repeated_word = keyword * 3\n",
    "\n",
    "your_song = repeated_word + \" Crank that Souja Boy..\"\n",
    "\n",
    "print(your_song)"
   ]
  },
  {
   "cell_type": "markdown",
   "metadata": {
    "id": "tlIZbIrSRWUF"
   },
   "source": [
    "It's really intuitive. Basically, if you have a string multiplied by a multiplier (of int data type) then the resulting  string has the original string repeated by the amount of multiplier.\n",
    "\n",
    "In other words, the multiplication in string is a shortcut to repeat the string."
   ]
  },
  {
   "cell_type": "markdown",
   "metadata": {
    "id": "F_VFqH6aSZNp"
   },
   "source": [
    "### Indexing\n",
    "\n",
    "We've already discussed that the basic data type for python is string not character. But what if you want to access a character of a string?\n",
    "\n",
    "We use the `[ ]` operator\n",
    "\n",
    "You can access a character of a string if you know its position. For example, `str[index]` will yield the character at position `index` in the string str.\n",
    "Note that string index always starts at 0."
   ]
  },
  {
   "cell_type": "code",
   "execution_count": 4,
   "metadata": {
    "id": "fOSBMw_HcD4Z"
   },
   "outputs": [
    {
     "name": "stdout",
     "output_type": "stream",
     "text": [
      "h h\n",
      "P\n"
     ]
    }
   ],
   "source": [
    "python = \"Python\"\n",
    "print(\"h \" + python[3])     # Note: string indexing starts with 0\n",
    "\n",
    "#Can you guess what should be written on right hand side to get the letter P in variable python?\n",
    "p_letter = ??\n",
    "print(p_letter)\n"
   ]
  },
  {
   "cell_type": "markdown",
   "metadata": {
    "id": "JZbBf5kgcgqo"
   },
   "source": [
    "Indices may also be negative numbers, to start counting from the right.\n",
    "\n",
    "Note that since -0 is the same as 0, negative indices start from -1.\n",
    "\n",
    "You can use negative numbers in the indexing operator to count characters ‘backwards’ from the end of the string.\n",
    "\n",
    "Can you use negative index to get the '!' sign from `long_string`?"
   ]
  },
  {
   "cell_type": "code",
   "execution_count": 1,
   "metadata": {
    "id": "ndnDAOl5cobk"
   },
   "outputs": [
    {
     "ename": "SyntaxError",
     "evalue": "invalid syntax (730909794.py, line 2)",
     "output_type": "error",
     "traceback": [
      "\u001b[1;36m  Cell \u001b[1;32mIn[1], line 2\u001b[1;36m\u001b[0m\n\u001b[1;33m    exclamation =\u001b[0m\n\u001b[1;37m                 ^\u001b[0m\n\u001b[1;31mSyntaxError\u001b[0m\u001b[1;31m:\u001b[0m invalid syntax\n"
     ]
    }
   ],
   "source": [
    "long_string = \"This is a very long string!\"\n",
    "exclamation =\n",
    "print(exclamation)\n"
   ]
  },
  {
   "cell_type": "markdown",
   "metadata": {
    "id": "-AODvWtldPPy"
   },
   "source": [
    "### Slicing\n",
    "\n",
    "Slicing is used to get multiple characters (a substring) from a string. Its syntax is similar to that of indexing, but instead of just one index you use two indices (numbers) separated by a colon, e.g. str[ind1:ind2].   \n",
    "\n",
    "Example   \n",
    "\n",
    "- str[start:end] # items start through end-1   \n",
    "- str[start:]    # items start through the rest of the array   \n",
    "- str[:end]      # items from the beginning through end-1   \n",
    "- str[:]         # a copy of the whole array   \n",
    "\n",
    "\n",
    "Use slicing to get \"Python\" from the monty_python variable."
   ]
  },
  {
   "cell_type": "code",
   "execution_count": 9,
   "metadata": {
    "id": "JzDR9FmLdu3J"
   },
   "outputs": [
    {
     "ename": "SyntaxError",
     "evalue": "invalid syntax (3257156036.py, line 4)",
     "output_type": "error",
     "traceback": [
      "\u001b[1;36m  Cell \u001b[1;32mIn[9], line 4\u001b[1;36m\u001b[0m\n\u001b[1;33m    python =  #type here\u001b[0m\n\u001b[1;37m              ^\u001b[0m\n\u001b[1;31mSyntaxError\u001b[0m\u001b[1;31m:\u001b[0m invalid syntax\n"
     ]
    }
   ],
   "source": [
    "monty_python = \"Monty Python\"\n",
    "monty = monty_python[:5]      # one or both index could be dropped. monty_python[:5] is equal to monty_python[0:5]\n",
    "print(monty)\n",
    "python =  #type here\n",
    "print(python)\n"
   ]
  },
  {
   "cell_type": "markdown",
   "metadata": {
    "id": "vhWuhblTd1LO"
   },
   "source": [
    "### in operator\n",
    "\n",
    "If you want to check whether a string contains a specific letter or a substring, you can use the in keyword.\n",
    "\n",
    "Run the code below"
   ]
  },
  {
   "cell_type": "code",
   "execution_count": 10,
   "metadata": {
    "id": "jSA1rkgQd72C"
   },
   "outputs": [
    {
     "name": "stdout",
     "output_type": "stream",
     "text": [
      "True\n"
     ]
    }
   ],
   "source": [
    "current_variable = \"ice cream\"\n",
    "print(\"i\" in current_variable)    # Check if there is a letter i in the current variable, if yes, return True. Otherwise, return False."
   ]
  },
  {
   "cell_type": "markdown",
   "metadata": {
    "id": "M_B6CeHXlNN3"
   },
   "source": [
    "The in operator are quite useful if you combine with an `if-else` statement"
   ]
  },
  {
   "cell_type": "code",
   "execution_count": 11,
   "metadata": {
    "colab": {
     "base_uri": "https://localhost:8080/",
     "height": 34
    },
    "id": "01bZL2nxlWKw",
    "outputId": "91072d50-9d6d-4725-a8e9-2b858f3af99e"
   },
   "outputs": [
    {
     "name": "stdout",
     "output_type": "stream",
     "text": [
      "I am on diet!\n"
     ]
    }
   ],
   "source": [
    "#Try changing the value my_string to a string that contains 'i'\n",
    "my_string = \"kare-kare\"\n",
    "if (\"i\" in my_string):\n",
    "    print(\"I want an ice cream!\")\n",
    "\n",
    "else:\n",
    "    print(\"I am on diet!\")"
   ]
  },
  {
   "cell_type": "markdown",
   "metadata": {
    "id": "l18QDTx5fC-9"
   },
   "source": [
    "### The Backslash\n",
    "Backslash is used to escape single or double quotation marks, for example 'It\\'s me' or \"She said \\\"Hello\\\"\". The special symbol '\\n' is used to add a line break to a string.\n",
    "Single quotation mark could be used in double quoted string without escaping and vice versa.\n",
    "\n",
    "Observe the code below"
   ]
  },
  {
   "cell_type": "code",
   "execution_count": 12,
   "metadata": {
    "colab": {
     "base_uri": "https://localhost:8080/",
     "height": 88
    },
    "id": "XXjKmqzmfLgx",
    "outputId": "f57f328e-d262-4a91-8584-03b1f3c54fa7"
   },
   "outputs": [
    {
     "name": "stdout",
     "output_type": "stream",
     "text": [
      "Don't worry about apostrophes\n",
      "\"Sweet\" is an ice-cream\n",
      "text\n"
     ]
    }
   ],
   "source": [
    "dont_worry = \"Don't worry about apostrophes\"\n",
    "print(dont_worry)\n",
    "print(\"\\\"Sweet\\\" is an ice-cream\")\n",
    "print('text')\n"
   ]
  },
  {
   "cell_type": "markdown",
   "metadata": {
    "id": "g0OekSnYgJ5u"
   },
   "source": [
    "### Formatting Strings\n",
    "\n",
    "To format strings we use `{ }` operator inside the quotes. Afterwards, we write .format(*var_name*).\n",
    "\n",
    "Let's show it via example"
   ]
  },
  {
   "cell_type": "code",
   "execution_count": 13,
   "metadata": {
    "colab": {
     "base_uri": "https://localhost:8080/",
     "height": 122
    },
    "id": "ed_tOYckgZ6l",
    "outputId": "b2ca234f-5acd-4881-8588-ae883ada4796"
   },
   "outputs": [
    {
     "name": "stdout",
     "output_type": "stream",
     "text": [
      "my current cgpa is 3.554 \n",
      "my current cgpa in one decimal places is 3.6. Thank you\n",
      "my current cgpa in one decimal places is                  3.6. Thank you\n",
      "my current cgpa in one decimal places is 3.6                 . Thank you\n",
      "my current cgpa in one decimal places is         3.6         . Thank you\n"
     ]
    }
   ],
   "source": [
    "current_cgpa = 3.554\n",
    "\n",
    "print(\"my current cgpa is {} \".format(current_cgpa))\n",
    "print(\"my current cgpa in one decimal places is {:.1f}. Thank you\".format(current_cgpa))\n",
    "print(\"my current cgpa in one decimal places is {:20.1f}. Thank you\".format(current_cgpa)) # We added 20 spacing (by default to the left)\n",
    "print(\"my current cgpa in one decimal places is {:<20.1f}. Thank you\".format(current_cgpa)) # We added 20 spacing.\n",
    "                                                                                            # < means the variable content is left-aligned.\n",
    "print(\"my current cgpa in one decimal places is {:^20.1f}. Thank you\".format(current_cgpa)) # We added 20 spacing.\n",
    "                                                                                            # ^ means the variable content is center-aligned."
   ]
  },
  {
   "cell_type": "markdown",
   "metadata": {
    "id": "8twUMJKzeh37"
   },
   "source": [
    "### String Length\n",
    "\n",
    "The len() function is used to count how many characters a string contains."
   ]
  },
  {
   "cell_type": "code",
   "execution_count": 16,
   "metadata": {
    "colab": {
     "base_uri": "https://localhost:8080/",
     "height": 34
    },
    "id": "QODrxU9zem5m",
    "outputId": "8f488349-32a3-435a-f398-ac7f9ebf1d83"
   },
   "outputs": [
    {
     "name": "stdout",
     "output_type": "stream",
     "text": [
      "Your character count is 88 \n"
     ]
    }
   ],
   "source": [
    "phrase = \"\"\"\n",
    "It is a really long string\n",
    "triple-quoted strings are used\n",
    "to define multi-line strings\n",
    "\"\"\"\n",
    "\n",
    "count = len(phrase)\n",
    "\n",
    "print(\"Your character count is {} \".format(count))\n",
    "# first_half = type here\n",
    "# print(first_half)\n"
   ]
  },
  {
   "cell_type": "markdown",
   "metadata": {
    "id": "N0JD0EABneny"
   },
   "source": [
    "Note: `len()` returns an output of type `int`. You can manipulate like any interger"
   ]
  },
  {
   "cell_type": "code",
   "execution_count": 17,
   "metadata": {
    "colab": {
     "base_uri": "https://localhost:8080/",
     "height": 34
    },
    "id": "WpA2MvENn2n7",
    "outputId": "1e1b351d-ab0b-4c13-ea74-2f4a8410060d"
   },
   "outputs": [
    {
     "name": "stdout",
     "output_type": "stream",
     "text": [
      "Count added by 3 is 91\n"
     ]
    }
   ],
   "source": [
    "print (\"Count added by 3 is {}\".format(count + 3))"
   ]
  },
  {
   "cell_type": "markdown",
   "metadata": {
    "id": "wWbYFazZn-Yb"
   },
   "source": [
    "This attribute would be useful in performing dynamic slicing on your strings"
   ]
  },
  {
   "cell_type": "code",
   "execution_count": 18,
   "metadata": {
    "colab": {
     "base_uri": "https://localhost:8080/",
     "height": 68
    },
    "id": "VFT79R43oH31",
    "outputId": "1a8cf95a-8c71-4e92-de73-07d6e0a13d13"
   },
   "outputs": [
    {
     "name": "stdout",
     "output_type": "stream",
     "text": [
      "The first half of your phrase is \n",
      "It is a really long string\n",
      "triple-quoted st\n"
     ]
    }
   ],
   "source": [
    "# Recall: // means integer division\n",
    "half = len(phrase) // 2\n",
    "print (\"The first half of your phrase is \" + phrase[:half] )"
   ]
  },
  {
   "cell_type": "markdown",
   "metadata": {
    "id": "QYRGqhBUfcik"
   },
   "source": [
    "### Built-in String Methods\n",
    "\n",
    "There are a lot of useful string methods. You can use the lower() method to get rid of any capitalization in your strings. The upper() method is used to make a string uppercase. To call any string method, type a dot after the string (or a variable containing the string) and the method name after it, e.g. \"John\".upper().\n",
    "\n"
   ]
  },
  {
   "cell_type": "code",
   "execution_count": null,
   "metadata": {
    "colab": {
     "base_uri": "https://localhost:8080/",
     "height": 51
    },
    "id": "m-VYeugXfuYY",
    "outputId": "433c71c2-db15-451d-d94e-ebdbeaf43dfc"
   },
   "outputs": [
    {
     "name": "stdout",
     "output_type": "stream",
     "text": [
      "My Name in lower case john anthony jose\n",
      "My Name in upper case JOHN ANTHONY JOSE\n"
     ]
    }
   ],
   "source": [
    "my_name = \"John Anthony Jose\"\n",
    "\n",
    "lower_name = my_name.lower()\n",
    "\n",
    "print (\"My Name in lower case \" + lower_name)\n",
    "\n",
    "\n",
    "upper_name = my_name.upper()\n",
    "\n",
    "print(\"My Name in upper case \" + upper_name)"
   ]
  }
 ],
 "metadata": {
  "colab": {
   "provenance": []
  },
  "kernelspec": {
   "display_name": "Python 3 (ipykernel)",
   "language": "python",
   "name": "python3"
  },
  "language_info": {
   "codemirror_mode": {
    "name": "ipython",
    "version": 3
   },
   "file_extension": ".py",
   "mimetype": "text/x-python",
   "name": "python",
   "nbconvert_exporter": "python",
   "pygments_lexer": "ipython3",
   "version": "3.10.11"
  }
 },
 "nbformat": 4,
 "nbformat_minor": 1
}
