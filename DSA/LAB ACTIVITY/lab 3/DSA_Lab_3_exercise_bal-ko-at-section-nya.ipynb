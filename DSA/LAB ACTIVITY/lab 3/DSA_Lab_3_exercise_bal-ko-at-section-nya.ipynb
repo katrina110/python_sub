{
 "cells": [
  {
   "cell_type": "markdown",
   "metadata": {},
   "source": [
    "# DATA STRUCTURE AND ALGORITHMS\n",
    "## Laboratory Exercise \n",
    "Deadline: 11:59pm Oct 29, 2023\n",
    "\n",
    "upload you this file together with your answer, the filename should be DSA_Lab3_exercise<name_and_section>.ipynb\n",
    "\n",
    "upload to https://docs.google.com/forms/d/e/1FAIpQLSe2pSqJn3MuQYRtQvxNrQw2-5fq3Ea6dizvzG2zST4yN5OkNA/viewform?usp=pp_url"
   ]
  },
  {
   "cell_type": "markdown",
   "metadata": {},
   "source": [
    "## Lab exercise 1\n",
    "### Provide an implementation for a function called vowelsToUpper with the following signature:\n",
    "\n",
    "method name : vowelsToUpper\n",
    "input argument : String \n",
    "return argument : String\n",
    "\n",
    "vowelsToUpper must return a version of its String argument with all its vowels changed to their uppercase forms. Nonvowel characters stay as is.\n",
    "\n",
    "### Sample Calls\n",
    "\n",
    "vowelsToUpper \"\" == \"\"\n",
    "vowelsToUpper \"Hello, world!\" == \"HEllO, wOrld!\"\n",
    "vowelsToUpper \"hello hi bye\" == \"hEllO hI byE\"\n",
    "\n"
   ]
  },
  {
   "cell_type": "code",
   "execution_count": 1,
   "metadata": {},
   "outputs": [
    {
     "name": "stdout",
     "output_type": "stream",
     "text": [
      "Initial string vowels to upper\n",
      "With vowelsToUpper: vOwEls tO UppEr\n"
     ]
    }
   ],
   "source": [
    "def vowelsToUpper(string_to_convert):\n",
    "    vowels = {\"a\", \"e\", \"i\", \"o\", \"u\"}\n",
    "    newString = \"\"\n",
    "\n",
    "    for letters in string_to_convert:\n",
    "        if letters in vowels:\n",
    "            capitalString = letters.upper()\n",
    "            newString += capitalString\n",
    "        else:\n",
    "            newString += letters\n",
    "\n",
    "    return newString\n",
    "\n",
    "\n",
    "string = \"vowels to upper\"\n",
    "capitalizedString = vowelsToUpper(string)\n",
    "print(\"Initial string\", string)\n",
    "print(\"With vowelsToUpper:\", capitalizedString)"
   ]
  },
  {
   "cell_type": "markdown",
   "metadata": {},
   "source": []
  },
  {
   "cell_type": "markdown",
   "metadata": {},
   "source": [
    "## Lab exercise 2\n",
    "\n",
    "from a given list of integers, create a new list that will compute the square of odd integer elements.\n",
    "\n",
    "sample calls\n",
    "\n",
    "[2,4,3] == [9]\n",
    "[0,0,1,1] == [1,1]\n"
   ]
  },
  {
   "cell_type": "code",
   "execution_count": 3,
   "metadata": {},
   "outputs": [
    {
     "name": "stdout",
     "output_type": "stream",
     "text": [
      "Initial integers list: [1, 2, 3, 4, 5, 6, 7, 8, 9]\n",
      "Integers list with squared odd numbers [1, 2, 9, 4, 25, 6, 49, 8, 81]\n"
     ]
    }
   ],
   "source": [
    "def squaredOddNumbers(integers_to_convert):\n",
    "    newInteger = []\n",
    "\n",
    "    for integer in integers_to_convert:\n",
    "        if integer % 2 != 0:\n",
    "            oddInteger = integer*integer\n",
    "            newInteger.append(oddInteger)\n",
    "\n",
    "        else:\n",
    "            newInteger.append(integer)\n",
    "\n",
    "    return newInteger\n",
    "\n",
    "\n",
    "integers = [1, 2, 3, 4, 5, 6, 7, 8, 9]\n",
    "newIntegers = squaredOddNumbers(integers)\n",
    "print(\"Initial integers list:\", integers)\n",
    "print(\"Integers list with squared odd numbers\", newIntegers)"
   ]
  },
  {
   "cell_type": "markdown",
   "metadata": {},
   "source": [
    "## Lab exercise 3\n",
    "\n",
    "Create a new list of tuples from two given lists:\n",
    "\n",
    "### sample calls\n",
    "\n",
    "list1[1,2,3]\n",
    "list2[\"mark\",\"alice\",\"john]\n",
    "\n",
    "result: listOfTuple[(1,\"mark\"),(2,\"alice\"),(3,\"john\")] "
   ]
  },
  {
   "cell_type": "code",
   "execution_count": 4,
   "metadata": {},
   "outputs": [
    {
     "name": "stdout",
     "output_type": "stream",
     "text": [
      "List 1: [1, 2, 3] \n",
      "List 2: ['Mark', 'Alice', 'John'] \n",
      "Result: [(1, 'Mark'), (2, 'Alice'), (3, 'John')]\n"
     ]
    }
   ],
   "source": [
    "list1 = [1,2,3]\n",
    "list2 = [\"Mark\", \"Alice\", \"John\"]\n",
    "\n",
    "def createListOfTuples(list1, list2):\n",
    "    listOfTuples = [(list1[i], list2[i]) for i in range(0, len(list1))]\n",
    "\n",
    "    return listOfTuples\n",
    "\n",
    "\n",
    "listOfTuples = createListOfTuples(list1,list2)\n",
    "print(\"List 1:\", list1, \"\\nList 2:\", list2, \"\\nResult:\", listOfTuples)"
   ]
  },
  {
   "cell_type": "markdown",
   "metadata": {},
   "source": [
    "\n"
   ]
  }
 ],
 "metadata": {
  "kernelspec": {
   "display_name": "Python 3 (ipykernel)",
   "language": "python",
   "name": "python3"
  },
  "language_info": {
   "codemirror_mode": {
    "name": "ipython",
    "version": 3
   },
   "file_extension": ".py",
   "mimetype": "text/x-python",
   "name": "python",
   "nbconvert_exporter": "python",
   "pygments_lexer": "ipython3",
   "version": "3.11.4"
  }
 },
 "nbformat": 4,
 "nbformat_minor": 2
}
