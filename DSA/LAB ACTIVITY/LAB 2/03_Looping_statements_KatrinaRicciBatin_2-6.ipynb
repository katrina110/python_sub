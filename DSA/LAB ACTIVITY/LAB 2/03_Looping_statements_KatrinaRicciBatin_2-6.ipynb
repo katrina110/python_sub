{
 "cells": [
  {
   "cell_type": "markdown",
   "id": "5e78f155",
   "metadata": {},
   "source": [
    "# Lab 2 Exercise 1\n",
    " \n",
    " Input an integer, determine and display 'prime' if the integer is prime else display 'not prime'."
   ]
  },
  {
   "cell_type": "code",
   "execution_count": null,
   "id": "282c71d5",
   "metadata": {},
   "outputs": [],
   "source": [
    "number = int(input(\"Enter the number n: \"))\n",
    "\n",
    "n_is_prime = True\n",
    "\n",
    "for n in range (2,number):\n",
    "    if number % n ==0:\n",
    "        n_is_prime = False\n",
    "        break\n",
    "    else:\n",
    "        break\n",
    "\n",
    "if n_is_prime:\n",
    "    print(\"It's a prime number\")\n",
    "if not n_is_prime:\n",
    "    print(\"It's not a prime number\")"
   ]
  },
  {
   "cell_type": "markdown",
   "id": "6c9de7f8",
   "metadata": {},
   "source": [
    "# Lab 2 Exercise 2\n",
    "\n",
    "Compute for the cube of integers. "
   ]
  },
  {
   "cell_type": "code",
   "execution_count": null,
   "id": "32508e82",
   "metadata": {},
   "outputs": [],
   "source": [
    "numbers = []\n",
    "\n",
    "size = int(input(\"Enter the size of the array:\"))\n",
    "\n",
    "for s in range (size):\n",
    "    element = int(input(\"Enter elements:\"))\n",
    "    cube = element * element * element\n",
    "    numbers.append(cube)\n",
    "for n in numbers:\n",
    "    print (n)\n"
   ]
  },
  {
   "cell_type": "markdown",
   "id": "0c2a10d5",
   "metadata": {},
   "source": [
    "# Lab 2 Exercise 3\n",
    "Generate a hollow square based on the + integer input side length n."
   ]
  },
  {
   "cell_type": "markdown",
   "id": "d76b037e",
   "metadata": {},
   "source": [
    "# "
   ]
  },
  {
   "cell_type": "code",
   "execution_count": null,
   "id": "9d934304",
   "metadata": {},
   "outputs": [],
   "source": [
    "size = int(input(\"Enter the size of length:\"))\n",
    "\n",
    "spaces = size-2\n",
    "space = \" \"* spaces\n",
    "for n in range (size):\n",
    "    if n ==0 or n ==size-1:\n",
    "        print (\"*\"*size)\n",
    "    else:\n",
    "        print(\"*{}*\".format(space))\n"
   ]
  },
  {
   "cell_type": "markdown",
   "id": "a8dfe208",
   "metadata": {},
   "source": [
    "# Lab 2 Exercise 4\n",
    "Generate an inverted right triangle of height n."
   ]
  },
  {
   "cell_type": "code",
   "execution_count": null,
   "id": "0ad235f4",
   "metadata": {},
   "outputs": [],
   "source": [
    "number = int(input(\"Enter the height of triangle:\"))\n",
    "\n",
    "while number > 0:\n",
    "    print(\"*\"* number)\n",
    "    number -=1\n"
   ]
  },
  {
   "cell_type": "code",
   "execution_count": null,
   "id": "e6a52bdf",
   "metadata": {},
   "outputs": [],
   "source": []
  }
 ],
 "metadata": {
  "kernelspec": {
   "display_name": "Python 3 (ipykernel)",
   "language": "python",
   "name": "python3"
  },
  "language_info": {
   "codemirror_mode": {
    "name": "ipython",
    "version": 3
   },
   "file_extension": ".py",
   "mimetype": "text/x-python",
   "name": "python",
   "nbconvert_exporter": "python",
   "pygments_lexer": "ipython3",
   "version": "3.11.4"
  }
 },
 "nbformat": 4,
 "nbformat_minor": 5
}
